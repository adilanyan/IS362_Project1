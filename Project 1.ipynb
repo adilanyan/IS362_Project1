{
 "cells": [
  {
   "cell_type": "code",
   "execution_count": null,
   "metadata": {},
   "outputs": [],
   "source": [
    "import matplotlib\n",
    "import pandas as pd\n",
    "import numpy as np\n",
    "%matplotlib inline\n",
    "\n",
    "filename = 'ArrDel.csv'\n",
    "df = pd.read_csv(filename, index_col = 0)\n",
    "df = df.drop(columns = ['Unnamed: 1'])\n",
    "df = df.dropna()\n",
    "df.index = ['Alaska on time','Alaska delayed','AM WEST on time','AM WEST delayed']\n",
    "\n",
    "df"
   ]
  },
  {
   "cell_type": "code",
   "execution_count": null,
   "metadata": {},
   "outputs": [],
   "source": [
    "#Adding new data into a dataframe\n",
    "\n",
    "plt.rcParams[\"figure.figsize\"] = [50,50]\n",
    "font = {'size'   : 30}\n",
    "matplotlib.rc('font', **font)\n",
    "\n",
    "df.plot(kind = 'barh')"
   ]
  },
  {
   "cell_type": "code",
   "execution_count": null,
   "metadata": {},
   "outputs": [],
   "source": [
    "#AM West heading to Phoenix has the most arrivals on time and followed by Alaska heading to Seattle\n",
    "\n",
    "fig, axes = plt.subplots(nrows = 2, ncols = 2)\n",
    "res = df.div(df.sum(axis = 1), axis = 0)*100\n",
    "\n",
    "df.loc['Alaska delayed'].plot(kind = 'bar',title = 'Alaska delayed',color = 'red',ax = axes[0,0])\n",
    "df.loc['AM WEST delayed'].plot(kind = 'bar',title = 'AM WEST delayed',color = 'blue',ax = axes[0,1])\n",
    "res.iloc[1].plot(kind = 'pie',ax = axes[1,0])\n",
    "res.iloc[3].plot(kind = 'pie',ax = axes[1,1])"
   ]
  },
  {
   "cell_type": "code",
   "execution_count": null,
   "metadata": {},
   "outputs": [],
   "source": [
    "#AM West and flights heading to Seattle with Alaska were the most delayed in total per airline\n",
    "\n",
    "lenAlDe = len(df.iloc[1])\n",
    "avgAlDe = df.iloc[1].sum()/lenAlDe\n",
    "\n",
    "lenAmDe = len(df.iloc[3])\n",
    "avgAmDe = df.iloc[3].sum()/lenAmDe"
   ]
  },
  {
   "cell_type": "code",
   "execution_count": null,
   "metadata": {},
   "outputs": [],
   "source": [
    "#The best chance at avoiding a delayed flight you should not fly with Alaska airline when heading to Seattle or AM WEST heading to Phoenix"
   ]
  }
 ],
 "metadata": {
  "kernelspec": {
   "display_name": "Python 3",
   "language": "python",
   "name": "python3"
  },
  "language_info": {
   "codemirror_mode": {
    "name": "ipython",
    "version": 3
   },
   "file_extension": ".py",
   "mimetype": "text/x-python",
   "name": "python",
   "nbconvert_exporter": "python",
   "pygments_lexer": "ipython3",
   "version": "3.8.3"
  }
 },
 "nbformat": 4,
 "nbformat_minor": 4
}
